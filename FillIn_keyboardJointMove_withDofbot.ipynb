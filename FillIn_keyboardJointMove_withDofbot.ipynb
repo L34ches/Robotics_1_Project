{
 "cells": [
  {
   "cell_type": "code",
   "execution_count": 1,
   "metadata": {},
   "outputs": [
    {
     "ename": "ModuleNotFoundError",
     "evalue": "No module named 'Arm_Lib'",
     "output_type": "error",
     "traceback": [
      "\u001b[1;31m---------------------------------------------------------------------------\u001b[0m",
      "\u001b[1;31mModuleNotFoundError\u001b[0m                       Traceback (most recent call last)",
      "\u001b[1;32m<ipython-input-1-673e1b73210d>\u001b[0m in \u001b[0;36m<module>\u001b[1;34m\u001b[0m\n\u001b[0;32m      1\u001b[0m \u001b[1;32mimport\u001b[0m \u001b[0mtime\u001b[0m \u001b[1;31m#import the time module. Used for adding pauses during operation\u001b[0m\u001b[1;33m\u001b[0m\u001b[0m\n\u001b[1;32m----> 2\u001b[1;33m \u001b[1;32mfrom\u001b[0m \u001b[0mArm_Lib\u001b[0m \u001b[1;32mimport\u001b[0m \u001b[0mArm_Device\u001b[0m \u001b[1;31m#import the module associated with the arm\u001b[0m\u001b[1;33m\u001b[0m\u001b[0m\n\u001b[0m\u001b[0;32m      3\u001b[0m \u001b[1;33m\u001b[0m\u001b[0m\n\u001b[0;32m      4\u001b[0m \u001b[0mArm\u001b[0m \u001b[1;33m=\u001b[0m \u001b[0mArm_Device\u001b[0m\u001b[1;33m(\u001b[0m\u001b[1;33m)\u001b[0m \u001b[1;31m# Get DOFBOT object\u001b[0m\u001b[1;33m\u001b[0m\u001b[0m\n\u001b[0;32m      5\u001b[0m \u001b[0mtime\u001b[0m\u001b[1;33m.\u001b[0m\u001b[0msleep\u001b[0m\u001b[1;33m(\u001b[0m\u001b[1;36m.2\u001b[0m\u001b[1;33m)\u001b[0m \u001b[1;31m#this pauses execution for the given number of seconds\u001b[0m\u001b[1;33m\u001b[0m\u001b[0m\n",
      "\u001b[1;31mModuleNotFoundError\u001b[0m: No module named 'Arm_Lib'"
     ]
    }
   ],
   "source": [
    "import time #import the time module. Used for adding pauses during operation\n",
    "import numpy as np\n",
    "from Arm_Lib import Arm_Device #import the module associated with the arm\n",
    "import FK, IK, QP_PID, IK_J, OBJ_AVOID\n",
    "\n",
    "Arm = Arm_Device() # Get DOFBOT object\n",
    "time.sleep(.2) #this pauses execution for the given number of seconds"
   ]
  },
  {
   "cell_type": "code",
   "execution_count": null,
   "metadata": {},
   "outputs": [],
   "source": [
    "def main(): #define the main program function\n",
    "    speedtime = 100 #time in milliseconds to reach desired joint position\n",
    "    #The print function is used to display helpful information to the console\n",
    "    print(\"Input joint number 0 to stop program execution\")\n",
    "    q = readAllActualJointAngles() # read the current position of all joints\n",
    "    print(q) #NOTE: any indices where q is nan indicates the joint is outside its commandable range (<0 or >180)\n",
    "    while True: #keep executing the indented code until jnum=0\n",
    "        jnum = getJointNumber() #use our defined function to get the joint number\n",
    "        #if the joint number provided is 0, loop execution ends\n",
    "        #if the joint number is not 0, we get the angle, move the joint, and read the angle\n",
    "        if jnum == 0: \n",
    "            break\n",
    "        else:\n",
    "            ang = getJointAngle(jnum)   #use our defined function to get the joint angle\n",
    "            moveJoint(jnum,ang,speedtime) #move the desired joint to the given angle\n",
    "            time.sleep(1) #add a pause to allow time for joints to move\n",
    "            angActual = readActualJointAngle(jnum) #read the actual position of the desired joint\n",
    "            print(\"Actual joint angle:\",angActual)\n",
    "    print(\"Program has been terminated by user\") #let the user know the program is no longer executing\n",
    "    "
   ]
  },
  {
   "cell_type": "code",
   "execution_count": null,
   "metadata": {},
   "outputs": [],
   "source": [
    "def getJointNumber():\n",
    "    \"\"\"\n",
    "    function used to get the desired joint number using keyboard input\n",
    "    getJointNumber() requests user input the desired joint number and returns joint number as an integer\n",
    "    \"\"\"\n",
    "    jnum = int(input(\"Input joint number\")) #ask the user to input a joint number. int converts the input to an integer\n",
    "    print(\"Joint number: \",jnum) #print out the joint number that was read\n",
    "    #if the joint number is not valid, keep prompting until a valid number is given\n",
    "    if jnum<0 or jnum>6:\n",
    "        while True:\n",
    "            jnum = int(input(\"Input valid joint number [1,6]\"))\n",
    "            if jnum>=0 and jnum<=6:\n",
    "                break\n",
    "    return jnum #return the read value to the main function"
   ]
  },
  {
   "cell_type": "code",
   "execution_count": null,
   "metadata": {},
   "outputs": [],
   "source": [
    "def getJointAngle(jnum):\n",
    "    \"\"\"\n",
    "    function used to get the desired joint angle using keyboard input\n",
    "    getJointAngle() requests user input the desired joint angle in degrees and returns joint angle as an integer\n",
    "    function needs to know the target joint (jnum) because joint 5 has a different angle range than the other joints\n",
    "    \"\"\"\n",
    "    ang = int(input(\"Input angle (degrees)\")) #ask the user to input a joint angle in degrees. int converts the input to an integer\n",
    "    print(\"Joint angle: \",ang) #print out the joint angle that was read\n",
    "    #if the joint angle is not valid, keep prompting until a valid number is given   \n",
    "    if jnum != 5: #range for all joints except 5 is 0 to 180 degrees\n",
    "        if ang<0 or ang>180:\n",
    "            while True:\n",
    "                ang = int(input(\"Input valid joint angle [0,180]\"))\n",
    "                if ang>=0 and ang<=180:\n",
    "                    break\n",
    "    else: #joint 5 range is 0 to 270 degrees\n",
    "        if ang<0 or ang>270:\n",
    "            while True:\n",
    "                ang = int(input(\"Input valid joint angle [0,270]\"))\n",
    "                if ang>=0 and ang<=270:\n",
    "                    break\n",
    "    return ang #return the read value to the main function"
   ]
  },
  {
   "cell_type": "code",
   "execution_count": null,
   "metadata": {},
   "outputs": [],
   "source": [
    "def moveJoint(jnum,ang,speedtime):\n",
    "    \"\"\"\n",
    "    function used to move the specified joint to the given position\n",
    "    moveJoint(jnum, ang, speedtime) moves joint jnum to position ang degrees in speedtime milliseconds\n",
    "    function returns nothing\n",
    "    \"\"\"\n",
    "    # call the function to move joint number jnum to ang degrees in speedtime milliseconds\n",
    "    Arm.Arm_serial_servo_write(jnum,ang,speedtime)\n",
    "    return"
   ]
  },
  {
   "cell_type": "code",
   "execution_count": null,
   "metadata": {},
   "outputs": [],
   "source": [
    "def readActualJointAngle(jnum):\n",
    "    \"\"\"\n",
    "    function used to read the position of the specified joint\n",
    "    readActualJointAngle(jnum) reads the position of joint jnum in degrees\n",
    "    function returns the joint position in degrees\n",
    "    \"\"\"\n",
    "    # call the function to read the position of joint number jnum\n",
    "    ang = Arm.Arm_serial_servo_read(jnum)\n",
    "    return ang"
   ]
  },
  {
   "cell_type": "code",
   "execution_count": null,
   "metadata": {},
   "outputs": [],
   "source": [
    "#this cell provides two versions of a function to read all joint angles\n",
    "import numpy as np #import module numpy, assign new name for module (np) for readability\n",
    "\n",
    "# function to read and return all joint angles\n",
    "# returns joint angles as a 1x6 numpy array\n",
    "def readAllActualJointAngles():\n",
    "    q = np.array([Arm.Arm_serial_servo_read(1),Arm.Arm_serial_servo_read(2),Arm.Arm_serial_servo_read(3),Arm.Arm_serial_servo_read(4),Arm.Arm_serial_servo_read(5),Arm.Arm_serial_servo_read(6)])\n",
    "    return q\n",
    "\n",
    "# second version of function to read and return all joint angles\n",
    "# returns joint angles as a 6x1 numpy array\n",
    "def readAllActualJointAngles2():    \n",
    "    q = np.zeros((6,1)) #set up a 6x1 array placeholder\n",
    "    for i in range(1,7): #loop through each joint (Note range(1,N) = 1,2,...,N-1)\n",
    "        #note in Python the array indexing starts at 0 (the reason for i-1 index for q)\n",
    "        q[i-1] = Arm.Arm_serial_servo_read(i) #store read angle into corresponding index of q\n",
    "    return q"
   ]
  },
  {
   "cell_type": "code",
   "execution_count": null,
   "metadata": {},
   "outputs": [],
   "source": [
    "def followJointPath(q, speedtime, pid = None):\n",
    "    # q in shape of (5, num_steps), q is in radians\n",
    "    # pid is a tuple of form(kp, ki, kd) if given\n",
    "    e = np.zeros((5))\n",
    "    e_i = np.zeros((5))\n",
    "    e_d = np.zeros((5))\n",
    "    e_p = np.zeros((5))\n",
    "    u_pid = np.zeros((5))\n",
    "    N = np.shape(q)[1]\n",
    "    q_measures = np.zeros((5, N))\n",
    "    for step in range(N):\n",
    "        if pid != None:\n",
    "            u_pid = pid[0] * e + pid[1] * e_i + pid[2] * e_d\n",
    "        for joint in range(5):\n",
    "            moveJoint(joint + 1, q[joint, step] + u_pid[joint], speedtime)\n",
    "            time.sleep(1) #add a pause to allow time for joints to move\n",
    "        for joint in range(5):\n",
    "            q_measures[step, joint] = readActualJointAngle(joint + 1) #read the actual position of the desired joint\n",
    "            while q_measured[step, joint] ==  None:\n",
    "                sleep(1)\n",
    "                q_measured[step, joint] = readActualJointAngle(joint + 1)\n",
    "        e = q[step, :] - q_measured[step, :]\n",
    "        e_i += e / N\n",
    "        e_d = (e - e_p) * N\n",
    "        e_p = e\n",
    "    return q_measures"
   ]
  },
  {
   "cell_type": "code",
   "execution_count": null,
   "metadata": {},
   "outputs": [],
   "source": [
    "# Forward kinematics\n",
    "n = 5\n",
    "joint_angles = np.array([[90, 45, 135, 45, 135],\n",
    "                        [180, 90, 90, 90, 90],\n",
    "                        [90, 45, 135, 45, 135],\n",
    "                        [90, 45, 135, 45, 135],\n",
    "                        [90, 45, 135, 45, 135]])\n",
    "for i in range(n):\n",
    "    q = joint_angles[i, :] * np.pi / 180\n",
    "    ROT, POT = FK.fwkin_POE_Dofbot(q)\n",
    "    q_measures = followJointPath(q_lambda, speedtime, pid = None)\n",
    "    input()"
   ]
  },
  {
   "cell_type": "code",
   "execution_count": null,
   "metadata": {},
   "outputs": [],
   "source": [
    "# Inverse kinematics\n",
    "n = 5\n",
    "joint_angles = np.array([[90, 45, 135, 45, 135],\n",
    "                        [180, 90, 90, 90, 90],\n",
    "                        [90, 45, 135, 45, 135],\n",
    "                        [90, 45, 135, 45, 135],\n",
    "                        [90, 45, 135, 45, 135]])\n",
    "for i in range(n):\n",
    "    q = joint_angles[i, :] * np.pi / 180\n",
    "    ROT, POT = FK.fwkin_POE_Dofbot(q)\n",
    "    q_prime = IK.invkin_subproblems_Dofbot(ROT, POT)\n",
    "    print(\"Caculated:\", q, \"\\n\", \"Computed by IK:\" q_prime)"
   ]
  },
  {
   "cell_type": "code",
   "execution_count": null,
   "metadata": {},
   "outputs": [],
   "source": [
    "# Joint space path planing and following using QP (without/with pid control on arm movement)\n",
    "pid_bool = False\n",
    "q0 = np.array([90, 45, 135, 45, 135]) * np.pi / 180\n",
    "R0, P0 = FK.fwkin_POE_Dofbot(q0)\n",
    "P0Td = P0 - np.array([[0], [0], [0.05]])\n",
    "N = 100\n",
    "epsilon_p = 0.1\n",
    "Kp = 0.055\n",
    "Ki = 0.02\n",
    "Kd = 0\n",
    "pid = (Kp, Ki, Kd)\n",
    "q_lambda, lamb, P0T_lambda, R0T_lambda, Pdes_lambda = QP_PID.qpPathGen_positionOnly(q0, P0Td, epsilon_p, N, Kp, Ki, Kd)\n",
    "speedtime = 100\n",
    "if pid_bool == True:\n",
    "    q_measures = followJointPath(q_lambda, speedtime, pid = pid)\n",
    "else:\n",
    "    q_measures = followJointPath(q_lambda, speedtime, pid = None)"
   ]
  },
  {
   "cell_type": "code",
   "execution_count": null,
   "metadata": {},
   "outputs": [],
   "source": [
    "# Object avoidance path in task space -> joint space path\n",
    "# set up start point, end point, and circular obstacle in task space\n",
    "q0 = np.array([180, 90, 0, 0, 90]) * np.pi / 180\n",
    "P0 = FK.P0T(q0[0], q0[1], q0[2], q0[3], q0[4])\n",
    "P0 = np.reshape(np.array(P0), (-1, 1))\n",
    "Pd = P0[0:2] + np.array([[0.12], [0.01]])\n",
    "c = np.array([[0.06], P0[1]])\n",
    "r = 0.015 * np.sqrt(2)\n",
    "n = 300\n",
    "\n",
    "# set up hyper-parameters\n",
    "k = 25\n",
    "eta = 0.0000001\n",
    "rho0 = 0.01\n",
    "alpha = 0.001\n",
    "P = taskSpacePath(k, eta, rho0, alpha, P0, Pd, c, r)\n",
    "\n",
    "tol=np.reshape([0.0001,0.0001, 0.0001], (-1, 1))\n",
    "Nmax = 5000\n",
    "alpha = 50\n",
    "q0 = np.array([[180], [90], [0], [0], [90]]) * np.pi / 180\n",
    "q_lambda, Pest = jointSpacePath(tol, Nmax, alpha, q0, P0, n)\n",
    "\n",
    "speedtime = 100\n",
    "q_measures = followJointPath(q_lambda, speedtime, pid = None)"
   ]
  },
  {
   "cell_type": "code",
   "execution_count": null,
   "metadata": {},
   "outputs": [],
   "source": [
    "#execute the main loop unless the stop button is pressed to stop the kernel \n",
    "try:\n",
    "    main()\n",
    "except KeyboardInterrupt:\n",
    "    print(\"Program closed!\")\n",
    "    pass\n",
    "\n",
    "del Arm # release the arm object"
   ]
  }
 ],
 "metadata": {
  "kernelspec": {
   "display_name": "Python 3",
   "language": "python",
   "name": "python3"
  },
  "language_info": {
   "codemirror_mode": {
    "name": "ipython",
    "version": 3
   },
   "file_extension": ".py",
   "mimetype": "text/x-python",
   "name": "python",
   "nbconvert_exporter": "python",
   "pygments_lexer": "ipython3",
   "version": "3.6.5"
  }
 },
 "nbformat": 4,
 "nbformat_minor": 5
}
